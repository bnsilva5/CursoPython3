{
 "cells": [
  {
   "cell_type": "code",
   "execution_count": 1,
   "metadata": {},
   "outputs": [
    {
     "name": "stdout",
     "output_type": "stream",
     "text": [
      "C vale  1\n",
      "C vale  2\n",
      "C vale  3\n",
      "C vale  4\n",
      "C vale  5\n",
      "C vale  6\n",
      "Se ha completado toda la iteracion y c vale:  6\n"
     ]
    }
   ],
   "source": [
    "c = 0\n",
    "while c<=5:\n",
    "    c += 1\n",
    "    print(\"C vale \", c)\n",
    "else:\n",
    "    print(\"Se ha completado toda la iteracion y c vale: \", c)"
   ]
  },
  {
   "cell_type": "code",
   "execution_count": 3,
   "metadata": {},
   "outputs": [
    {
     "name": "stdout",
     "output_type": "stream",
     "text": [
      "n vale  1\n",
      "n vale  2\n",
      "Rompemos el bucle cuando n vale  3\n"
     ]
    }
   ],
   "source": [
    "n = 0\n",
    "while n <= 5:\n",
    "    n += 1\n",
    "    if (n==3):\n",
    "        print(\"Rompemos el bucle cuando n vale \", n)\n",
    "        break  # Sentencia break para romper el ciclo\n",
    "    print(\"n vale \", n)\n",
    "else:\n",
    "    print(\"Se ha completado toda la iteracion y n vale \", n)"
   ]
  },
  {
   "cell_type": "code",
   "execution_count": 4,
   "metadata": {},
   "outputs": [
    {
     "name": "stdout",
     "output_type": "stream",
     "text": [
      "n vale  1\n",
      "n vale  2\n",
      "Rompemos el bucle cuando n vale  3\n",
      "n vale  4\n",
      "n vale  5\n",
      "n vale  6\n",
      "Se ha completado toda la iteracion y n vale  6\n"
     ]
    }
   ],
   "source": [
    "n = 0\n",
    "while n <= 5:\n",
    "    n += 1\n",
    "    if (n==3):\n",
    "        print(\"Rompemos el bucle cuando n vale \", n)\n",
    "        continue  # Sentencia continue para saltar una iteracion\n",
    "    print(\"n vale \", n)\n",
    "else:\n",
    "    print(\"Se ha completado toda la iteracion y n vale \", n)"
   ]
  },
  {
   "cell_type": "code",
   "execution_count": 6,
   "metadata": {},
   "outputs": [
    {
     "name": "stdout",
     "output_type": "stream",
     "text": [
      "Bienvenido al menu interactivo\n",
      "¿Que quiere hacer? Escribe una opcion\n",
      "    1) Saludar\n",
      "    2) Sumar dos numeros\n",
      "    3) Salir\n",
      "1\n",
      "Hi, Hello_World\n",
      "¿Que quiere hacer? Escribe una opcion\n",
      "    1) Saludar\n",
      "    2) Sumar dos numeros\n",
      "    3) Salir\n",
      "2\n",
      "Escribe el primer numero3\n",
      "Escribe el segundo numero9\n",
      "El resultado de la suma es:  12.0\n",
      "¿Que quiere hacer? Escribe una opcion\n",
      "    1) Saludar\n",
      "    2) Sumar dos numeros\n",
      "    3) Salir\n",
      "3\n",
      "¡Good Bye! Ha sido un placer ayudarte\n"
     ]
    }
   ],
   "source": [
    "print(\"Bienvenido al menu interactivo\")\n",
    "while(True):\n",
    "    print(\"\"\"¿Que quiere hacer? Escribe una opcion\n",
    "    1) Saludar\n",
    "    2) Sumar dos numeros\n",
    "    3) Salir\"\"\")\n",
    "    opcion = input()\n",
    "    if opcion == '1':\n",
    "        print(\"Hi, Hello_World\")\n",
    "    elif opcion == '2':\n",
    "        n1 = float(input(\"Escribe el primer numero\"))\n",
    "        n2 = float(input(\"Escribe el segundo numero\"))\n",
    "        print(\"El resultado de la suma es: \", n1+n2)\n",
    "    elif opcion == '3':\n",
    "        print(\"¡Good Bye! Ha sido un placer ayudarte\")\n",
    "        break\n",
    "    else:\n",
    "        print(\"Comando desconocido, vuelve a intentarlo\")"
   ]
  },
  {
   "cell_type": "code",
   "execution_count": 3,
   "metadata": {},
   "outputs": [
    {
     "name": "stdout",
     "output_type": "stream",
     "text": [
      "Escriba un numero: 15\n",
      "test\n"
     ]
    }
   ],
   "source": [
    "numero = float(input(\"Escriba un numero: \"))\n",
    "while numero%5==0 :\n",
    "    print(\"test\")\n",
    "    break\n",
    "    # numero = float(input(\"Escriba de nuevo el numero: \"))\n",
    "else:\n",
    "    print(\"El numero NO es multiplo de 5\")"
   ]
  },
  {
   "cell_type": "code",
   "execution_count": 13,
   "metadata": {},
   "outputs": [
    {
     "name": "stdout",
     "output_type": "stream",
     "text": [
      "Escriba un numero: \n",
      "4\n",
      "menu interactivo\n",
      "Escriba un numero: \n",
      "55\n",
      "El numero es multiplo de 5, ¡Bye!\n"
     ]
    }
   ],
   "source": [
    "while(True):\n",
    "    print(\"\"\"Escriba un numero: \"\"\")\n",
    "    option = float(input())\n",
    "    if(option%5!=0):\n",
    "        print(\"menu interactivo\")\n",
    "    else:\n",
    "        print(\"El numero es multiplo de 5, ¡Bye!\")\n",
    "        break"
   ]
  },
  {
   "cell_type": "code",
   "execution_count": 11,
   "metadata": {},
   "outputs": [
    {
     "name": "stdout",
     "output_type": "stream",
     "text": [
      "34\n",
      "6\n",
      "7\n",
      "9\n",
      "10\n"
     ]
    }
   ],
   "source": [
    "num = -1\n",
    "while num % 5 != 0:\n",
    "    num = int(input())"
   ]
  },
  {
   "cell_type": "code",
   "execution_count": null,
   "metadata": {},
   "outputs": [],
   "source": []
  }
 ],
 "metadata": {
  "kernelspec": {
   "display_name": "Python 3 (ipykernel)",
   "language": "python",
   "name": "python3"
  },
  "language_info": {
   "codemirror_mode": {
    "name": "ipython",
    "version": 3
   },
   "file_extension": ".py",
   "mimetype": "text/x-python",
   "name": "python",
   "nbconvert_exporter": "python",
   "pygments_lexer": "ipython3",
   "version": "3.8.10"
  }
 },
 "nbformat": 4,
 "nbformat_minor": 1
}
