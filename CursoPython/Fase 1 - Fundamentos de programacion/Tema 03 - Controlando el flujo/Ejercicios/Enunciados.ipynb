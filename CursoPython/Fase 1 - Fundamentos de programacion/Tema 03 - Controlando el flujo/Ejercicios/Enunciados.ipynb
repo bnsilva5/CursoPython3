{
 "cells": [
  {
   "cell_type": "markdown",
   "metadata": {},
   "source": [
    "# Tema 03: Control de flujo (Enunciados)\n",
    "*Nota: Estos ejercicios son optativos para hacer al final de la unidad y están pensados para apoyar tu aprendizaje*."
   ]
  },
  {
   "cell_type": "markdown",
   "metadata": {},
   "source": [
    "**1) Realiza un programa que lea dos números por teclado y permita elegir entre 3 opciones en un menú:** \n",
    "* Mostrar una suma de los dos números\n",
    "* Mostrar una resta de los dos números (el primero menos el segundo)\n",
    "* Mostrar una multiplicación de los dos números\n",
    "* En caso de no introducir una opción válida, el programa informará de que no es correcta."
   ]
  },
  {
   "cell_type": "code",
   "execution_count": 6,
   "metadata": {},
   "outputs": [
    {
     "name": "stdout",
     "output_type": "stream",
     "text": [
      "¡Menu interactivo! Seleccione una opcion\n",
      "    1) Suma de dos numeros\n",
      "    2) Resta de dos numeros\n",
      "    3) Multiplicacion de dos numeros\n",
      "    4) Salir\n",
      "4\n",
      "¡Good Bye! Ha sido un placer ayudarte\n"
     ]
    }
   ],
   "source": [
    "# Completa el ejercicio aquí\n",
    "while(True):\n",
    "    print(\"\"\"¡Menu interactivo! Seleccione una opcion\n",
    "    1) Suma de dos numeros\n",
    "    2) Resta de dos numeros\n",
    "    3) Multiplicacion de dos numeros\n",
    "    4) Salir\"\"\")\n",
    "    option = input()\n",
    "    if option == '1':\n",
    "        print(\"Suma de dos numeros\")\n",
    "        num1 = float(input(\"Escriba un numero: \"))\n",
    "        num2 = float(input(\"Escriba otro numero: \"))\n",
    "        print(\"La suma de los dos numeros es: \", num1+num2)\n",
    "        \n",
    "    elif option == '2':\n",
    "        print(\"resta de dos numeros\")\n",
    "        num1 = float(input(\"Escriba un numero: \"))\n",
    "        num2 = float(input(\"Escriba otro numero: \"))\n",
    "        print(\"La resta de los dos numeros es: \", num1-num2)\n",
    "        \n",
    "    elif option == '3':\n",
    "        print(\"Multiplicacion de dos numeros\")\n",
    "        num1 = float(input(\"Escriba un numero: \"))\n",
    "        num2 = float(input(\"Escriba otro numero: \"))\n",
    "        print(\"La multiplicacion de los dos numeros es: \", num1*num2)\n",
    "        \n",
    "    elif option == '4':\n",
    "        print(\"¡Good Bye! Ha sido un placer ayudarte\")\n",
    "        break\n",
    "        \n",
    "    else:\n",
    "        print(\"Comando desconocido, vuelve a intentarlo\")"
   ]
  },
  {
   "cell_type": "markdown",
   "metadata": {},
   "source": [
    "**2) Realiza un programa que lea un número impar por teclado. Si el usuario no introduce un número impar, debe repetise el proceso hasta que lo introduzca correctamente.**"
   ]
  },
  {
   "cell_type": "code",
   "execution_count": 7,
   "metadata": {},
   "outputs": [
    {
     "name": "stdout",
     "output_type": "stream",
     "text": [
      "Escriba un numero impar: \n",
      "2\n",
      "Numero par:  2.0\n",
      "Escriba un numero impar: \n",
      "7\n",
      "Es un numero impar 7.0\n"
     ]
    }
   ],
   "source": [
    "# Completa el ejercicio aquí\n",
    "while(True):\n",
    "    print(\"\"\"Escriba un numero impar: \"\"\")\n",
    "    option = float(input())\n",
    "    if option % 2 != 0:\n",
    "        print(\"Es un numero impar\", option)\n",
    "        break\n",
    "    else:\n",
    "        print(\"Numero par: \", option)"
   ]
  },
  {
   "cell_type": "markdown",
   "metadata": {},
   "source": [
    "**3) Realiza un programa que sume todos los números enteros pares desde el 0 hasta el 100:**\n",
    "\n",
    "*Sugerencia: Puedes utilizar la funciones sum() y range() para hacerlo más fácil. El tercer parámetro en la función range(inicio, fin, salto) indica un salto de números, pruébalo.*"
   ]
  },
  {
   "cell_type": "code",
   "execution_count": 14,
   "metadata": {},
   "outputs": [
    {
     "name": "stdout",
     "output_type": "stream",
     "text": [
      "La suma de los numeros pares de 0 a 100 es:  2550\n"
     ]
    }
   ],
   "source": [
    "# Completa el ejercicio aquí\n",
    "sum = sum(list(range(0,101, 2)))\n",
    "\n",
    "print(\"La suma de los numeros pares de 0 a 100 es: \", sum)\n"
   ]
  },
  {
   "cell_type": "markdown",
   "metadata": {},
   "source": [
    "**4) Realiza un programa que pida al usuario cuantos números quiere introducir. Luego lee todos los números y realiza una media aritmética:**\n"
   ]
  },
  {
   "cell_type": "code",
   "execution_count": 25,
   "metadata": {},
   "outputs": [
    {
     "name": "stdout",
     "output_type": "stream",
     "text": [
      "Escriba la cantidad de numeros que quiere ingresar4\n",
      "Escriba un numero: 3\n",
      "Escriba un numero: 2\n",
      "Escriba un numero: 4\n",
      "Escriba un numero: 6\n",
      "3.75\n"
     ]
    }
   ],
   "source": [
    "# Completa el ejercicio aquí\n",
    "\n",
    "longitud_arreglo = int(input(\"Escriba la cantidad de numeros que quiere ingresar\"))\n",
    "suma=0\n",
    "for i in range(longitud_arreglo):\n",
    "        suma = suma + int(input(\"Escriba un numero: \"))\n",
    "\n",
    "media = suma / longitud_arreglo\n",
    "\n",
    "print(media)"
   ]
  },
  {
   "cell_type": "markdown",
   "metadata": {},
   "source": [
    "**5) Realiza un programa que pida al usuario un número entero del 0 al 9, y que mientras el número no sea correcto se repita el proceso. Luego debe comprobar si el número se encuentra en la lista de números y notificarlo:**\n",
    "\n",
    "*Consejo: La sintaxis \"valor in lista\" permite comprobar fácilmente si un valor se encuentra en una lista (devuelve True o False)*"
   ]
  },
  {
   "cell_type": "code",
   "execution_count": 36,
   "metadata": {},
   "outputs": [
    {
     "name": "stdout",
     "output_type": "stream",
     "text": [
      "Escriba un numero entre 0 y 9\n",
      "45\n",
      "Numero entre 0 y 9\n",
      "56\n",
      "Numero entre 0 y 9\n",
      "1\n",
      "El numero se encuentra en la lista:  True\n"
     ]
    }
   ],
   "source": [
    "# Completa el ejercicio aquí\n",
    "numeros = [1, 3, 6, 9]\n",
    "print(\"\"\"Escriba un numero entre 0 y 9\"\"\")\n",
    "while(True):\n",
    "    option = float(input())\n",
    "    if(option < 0 or option > 10):\n",
    "        print(\"\"\"Numero entre 0 y 9\"\"\")\n",
    "    else:\n",
    "        print(\"El numero se encuentra en la lista: \", option in numeros)\n",
    "        break"
   ]
  },
  {
   "cell_type": "markdown",
   "metadata": {},
   "source": [
    "**6) Utilizando la función range() y la conversión a listas genera las siguientes listas dinámicamente:**\n",
    "* Todos los números del 0 al 10 [0, 1, 2, ..., 10]\n",
    "* Todos los números del -10 al 0 [-10, -9, -8, ..., 0]\n",
    "* Todos los números pares del 0 al 20 [0, 2, 4, ..., 20]\n",
    "* Todos los números impares entre -20 y 0 [-19, -17, -15, ..., -1]\n",
    "* Todos los números múltiples de 5 del 0 al 50 [0, 5, 10, ..., 50]\n",
    "\n",
    "*Pista: Utiliza el tercer parámetro de la función range(inicio, fin, salto).*"
   ]
  },
  {
   "cell_type": "code",
   "execution_count": 48,
   "metadata": {},
   "outputs": [
    {
     "name": "stdout",
     "output_type": "stream",
     "text": [
      "[0, 1, 2, 3, 4, 5, 6, 7, 8, 9, 10]\n",
      "[-10, -9, -8, -7, -6, -5, -4, -3, -2, -1, 0]\n",
      "[0, 2, 4, 6, 8, 10, 12, 14, 16, 18, 20]\n",
      "[-19, -17, -15, -13, -11, -9, -7, -5, -3, -1]\n",
      "[0, 5, 10, 15, 20, 25, 30, 35, 40, 45, 50]\n"
     ]
    }
   ],
   "source": [
    "# Completa el ejercicio\n",
    "\n",
    "print(list(range(0, 11, 1)))\n",
    "print(list(range(-10, 1, 1)))\n",
    "print(list(range(0, 21, 2)))\n",
    "print(list(range(-19, 0, 2)))\n",
    "print(list(range(0, 51, 5)))"
   ]
  },
  {
   "cell_type": "markdown",
   "metadata": {},
   "source": [
    "**7) Dadas dos listas, debes generar una tercera con todos los elementos que se repitan en ellas, pero no debe repetise ningún elemento en la nueva lista:**"
   ]
  },
  {
   "cell_type": "code",
   "execution_count": 51,
   "metadata": {},
   "outputs": [
    {
     "name": "stdout",
     "output_type": "stream",
     "text": [
      "['H', 'o', 'l', 'd']\n"
     ]
    }
   ],
   "source": [
    "# Completa el ejercicio aquí\n",
    "lista1 = [\"H\", \"o\", \"l\" , \"a\", \"M\", \"u\", \"n\", \"d\" , \"o\"]\n",
    "lista2 = [\"H\", \"e\", \"l\", \"l\", \"o\", \"W\", \"o\", \"r\", \"l\", \"d\"]\n",
    "lista3 = []\n",
    "\n",
    "for letra in lista1:\n",
    "    if letra in lista2 and letra not in lista3:\n",
    "        lista3.append(letra)\n",
    "        \n",
    "print(lista3)"
   ]
  },
  {
   "cell_type": "code",
   "execution_count": null,
   "metadata": {},
   "outputs": [],
   "source": []
  }
 ],
 "metadata": {
  "anaconda-cloud": {},
  "kernelspec": {
   "display_name": "Python 3 (ipykernel)",
   "language": "python",
   "name": "python3"
  },
  "language_info": {
   "codemirror_mode": {
    "name": "ipython",
    "version": 3
   },
   "file_extension": ".py",
   "mimetype": "text/x-python",
   "name": "python",
   "nbconvert_exporter": "python",
   "pygments_lexer": "ipython3",
   "version": "3.8.10"
  }
 },
 "nbformat": 4,
 "nbformat_minor": 1
}
