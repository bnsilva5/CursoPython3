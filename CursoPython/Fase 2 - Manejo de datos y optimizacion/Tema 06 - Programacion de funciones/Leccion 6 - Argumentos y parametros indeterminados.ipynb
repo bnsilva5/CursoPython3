{
 "cells": [
  {
   "cell_type": "code",
   "execution_count": 2,
   "metadata": {},
   "outputs": [
    {
     "name": "stdout",
     "output_type": "stream",
     "text": [
      "(5, 'Hello_world', [1, 2, 3, 5])\n"
     ]
    }
   ],
   "source": [
    "# Funciones con argumentos y parametros indeterminados \n",
    "# Tuplas inalterables/ inmutables (No se modifican)\n",
    "def indeterminados_posicion(*args):\n",
    "    print(args)\n",
    "    \n",
    "indeterminados_posicion(5, 'Hello_world', [1, 2, 3, 5])"
   ]
  },
  {
   "cell_type": "code",
   "execution_count": 3,
   "metadata": {},
   "outputs": [
    {
     "name": "stdout",
     "output_type": "stream",
     "text": [
      "5\n",
      "Hello_world\n",
      "[1, 2, 3, 5]\n"
     ]
    }
   ],
   "source": [
    "def indeterminados_posicion(*args):\n",
    "    for arg in args:\n",
    "        print(arg)\n",
    "\n",
    "indeterminados_posicion(5, 'Hello_world', [1, 2, 3, 5])"
   ]
  },
  {
   "cell_type": "code",
   "execution_count": 5,
   "metadata": {},
   "outputs": [
    {
     "name": "stdout",
     "output_type": "stream",
     "text": [
      "{'n': 3, 's': 'Hola_Mundo', 'l': [1, 3, 5, 6]}\n"
     ]
    }
   ],
   "source": [
    "# keyWords args devuelve diccionarios\n",
    "def indeterminados_nombre(**kwargs):\n",
    "    print(kwargs)\n",
    "indeterminados_nombre(n=3, s=\"Hola_Mundo\", l=[1, 3, 5, 6])"
   ]
  },
  {
   "cell_type": "code",
   "execution_count": 6,
   "metadata": {},
   "outputs": [
    {
     "name": "stdout",
     "output_type": "stream",
     "text": [
      "n\n",
      "s\n",
      "l\n"
     ]
    }
   ],
   "source": [
    "# keyWords args devuelve clave => valor\n",
    "def indeterminados_nombre(**kwargs):\n",
    "    for kwarg in kwargs:\n",
    "        print(kwarg)\n",
    "indeterminados_nombre(n=3, s=\"Hola_Mundo\", l=[1, 3, 5, 6])"
   ]
  },
  {
   "cell_type": "code",
   "execution_count": 7,
   "metadata": {},
   "outputs": [
    {
     "name": "stdout",
     "output_type": "stream",
     "text": [
      "n   3\n",
      "s   Hola_Mundo\n",
      "l   [1, 3, 5, 6]\n"
     ]
    }
   ],
   "source": [
    "def indeterminados_nombre(**kwargs):\n",
    "    for kwarg in kwargs:\n",
    "        print(kwarg, \" \", kwargs[kwarg])\n",
    "indeterminados_nombre(n=3, s=\"Hola_Mundo\", l=[1, 3, 5, 6])"
   ]
  },
  {
   "cell_type": "code",
   "execution_count": 8,
   "metadata": {},
   "outputs": [
    {
     "name": "stdout",
     "output_type": "stream",
     "text": [
      "Sumatorio indeterminado es:  480.76\n",
      "nombre   Nicholas\n",
      "edad   23\n"
     ]
    }
   ],
   "source": [
    "def super_funcion(*args, **kwargs):\n",
    "    t = 0\n",
    "    for arg in args:\n",
    "        t += arg\n",
    "    print(\"Sumatorio indeterminado es: \", t)\n",
    "    for kwarg in kwargs:\n",
    "        print(kwarg, \" \", kwargs[kwarg])\n",
    "        \n",
    "super_funcion(10, 31, -3, 1.76, 50, 60, 331, nombre=\"Nicholas\", edad=23)"
   ]
  },
  {
   "cell_type": "code",
   "execution_count": null,
   "metadata": {},
   "outputs": [],
   "source": []
  }
 ],
 "metadata": {
  "kernelspec": {
   "display_name": "Python 3 (ipykernel)",
   "language": "python",
   "name": "python3"
  },
  "language_info": {
   "codemirror_mode": {
    "name": "ipython",
    "version": 3
   },
   "file_extension": ".py",
   "mimetype": "text/x-python",
   "name": "python",
   "nbconvert_exporter": "python",
   "pygments_lexer": "ipython3",
   "version": "3.8.10"
  }
 },
 "nbformat": 4,
 "nbformat_minor": 1
}
