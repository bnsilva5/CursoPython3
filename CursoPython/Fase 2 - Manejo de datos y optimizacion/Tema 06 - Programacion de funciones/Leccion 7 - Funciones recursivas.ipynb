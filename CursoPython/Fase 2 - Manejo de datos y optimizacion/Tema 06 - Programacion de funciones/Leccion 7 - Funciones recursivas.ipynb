{
 "cells": [
  {
   "cell_type": "code",
   "execution_count": 2,
   "metadata": {},
   "outputs": [
    {
     "name": "stdout",
     "output_type": "stream",
     "text": [
      "4\n",
      "3\n",
      "2\n",
      "1\n",
      "Explociooooon!!!\n",
      "Fin de la funcion  0\n",
      "Fin de la funcion  1\n",
      "Fin de la funcion  2\n",
      "Fin de la funcion  3\n",
      "Fin de la funcion  4\n"
     ]
    }
   ],
   "source": [
    "def cuenta_atras(num):\n",
    "    num -= 1\n",
    "    if num > 0:\n",
    "        print(num)\n",
    "        cuenta_atras(num)\n",
    "    else:\n",
    "        print(\"Explociooooon!!!\")\n",
    "    print(\"Fin de la funcion \", num)\n",
    "\n",
    "cuenta_atras(5)"
   ]
  },
  {
   "cell_type": "code",
   "execution_count": 12,
   "metadata": {},
   "outputs": [
    {
     "name": "stdout",
     "output_type": "stream",
     "text": [
      "Valor inicial ->  5\n",
      "Valor inicial ->  4\n",
      "Valor inicial ->  3\n",
      "Valor inicial ->  2\n",
      "Valor inicial ->  1\n",
      "valor final -> 1\n",
      "valor final -> 2\n",
      "valor final -> 6\n",
      "valor final -> 24\n",
      "valor final -> 120\n"
     ]
    },
    {
     "data": {
      "text/plain": [
       "120"
      ]
     },
     "execution_count": 12,
     "metadata": {},
     "output_type": "execute_result"
    }
   ],
   "source": [
    "# Caluculo del factorial de un numero con recursividad\n",
    "def factorial(num):\n",
    "    print(\"Valor inicial -> \", num)\n",
    "    if(num > 1):\n",
    "        num = num * factorial(num -1)\n",
    "    print(\"valor final ->\", num)\n",
    "    return num\n",
    "\n",
    "factorial(5)"
   ]
  },
  {
   "cell_type": "code",
   "execution_count": 11,
   "metadata": {},
   "outputs": [
    {
     "name": "stdout",
     "output_type": "stream",
     "text": [
      "Valor inicial ->  3\n",
      "Valor inicial ->  2\n",
      "Valor inicial ->  1\n",
      "Valor final ->  1\n",
      "Valor final ->  3\n",
      "Valor final ->  6\n"
     ]
    },
    {
     "data": {
      "text/plain": [
       "6"
      ]
     },
     "execution_count": 11,
     "metadata": {},
     "output_type": "execute_result"
    }
   ],
   "source": [
    "# Suma recursiva \n",
    "def sumatorio(numero):\n",
    "    print(\"Valor inicial -> \", numero)\n",
    "    if(numero > 1):\n",
    "        numero = numero + sumatorio(numero-1)\n",
    "    print(\"Valor final -> \", numero)\n",
    "    return numero\n",
    "\n",
    "sumatorio(3)"
   ]
  },
  {
   "cell_type": "code",
   "execution_count": 1,
   "metadata": {},
   "outputs": [
    {
     "name": "stdout",
     "output_type": "stream",
     "text": [
      "10\n"
     ]
    }
   ],
   "source": [
    "# Ejercicio de la seccion\n",
    "def doblar():\n",
    "    global num\n",
    "    num *= 2\n",
    " \n",
    "num = 5\n",
    "doblar()\n",
    "print(num)"
   ]
  },
  {
   "cell_type": "code",
   "execution_count": 2,
   "metadata": {},
   "outputs": [
    {
     "data": {
      "text/plain": [
       "(5, 10, 20)"
      ]
     },
     "execution_count": 2,
     "metadata": {},
     "output_type": "execute_result"
    }
   ],
   "source": [
    "def test(num):\n",
    "   return num, num*2, num*4\n",
    " \n",
    "test(5)"
   ]
  },
  {
   "cell_type": "code",
   "execution_count": null,
   "metadata": {},
   "outputs": [],
   "source": []
  }
 ],
 "metadata": {
  "kernelspec": {
   "display_name": "Python 3 (ipykernel)",
   "language": "python",
   "name": "python3"
  },
  "language_info": {
   "codemirror_mode": {
    "name": "ipython",
    "version": 3
   },
   "file_extension": ".py",
   "mimetype": "text/x-python",
   "name": "python",
   "nbconvert_exporter": "python",
   "pygments_lexer": "ipython3",
   "version": "3.8.10"
  }
 },
 "nbformat": 4,
 "nbformat_minor": 1
}
