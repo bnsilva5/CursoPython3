{
 "cells": [
  {
   "cell_type": "code",
   "execution_count": 1,
   "metadata": {},
   "outputs": [
    {
     "name": "stdout",
     "output_type": "stream",
     "text": [
      "Escribe un numero: aaa\n"
     ]
    },
    {
     "ename": "TypeError",
     "evalue": "unsupported operand type(s) for /: 'str' and 'int'",
     "output_type": "error",
     "traceback": [
      "\u001b[0;31m---------------------------------------------------------------------------\u001b[0m",
      "\u001b[0;31mTypeError\u001b[0m                                 Traceback (most recent call last)",
      "\u001b[0;32m/tmp/ipykernel_19612/2748485542.py\u001b[0m in \u001b[0;36m<module>\u001b[0;34m\u001b[0m\n\u001b[1;32m      1\u001b[0m \u001b[0mn\u001b[0m \u001b[0;34m=\u001b[0m \u001b[0minput\u001b[0m\u001b[0;34m(\u001b[0m\u001b[0;34m\"Escribe un numero: \"\u001b[0m\u001b[0;34m)\u001b[0m\u001b[0;34m\u001b[0m\u001b[0;34m\u001b[0m\u001b[0m\n\u001b[1;32m      2\u001b[0m \u001b[0mm\u001b[0m \u001b[0;34m=\u001b[0m \u001b[0;36m4\u001b[0m\u001b[0;34m\u001b[0m\u001b[0;34m\u001b[0m\u001b[0m\n\u001b[0;32m----> 3\u001b[0;31m \u001b[0mprint\u001b[0m\u001b[0;34m(\u001b[0m\u001b[0;34m\"{}/{}={}\"\u001b[0m\u001b[0;34m.\u001b[0m\u001b[0mformat\u001b[0m\u001b[0;34m(\u001b[0m\u001b[0mn\u001b[0m\u001b[0;34m,\u001b[0m \u001b[0mm\u001b[0m\u001b[0;34m,\u001b[0m \u001b[0mn\u001b[0m\u001b[0;34m/\u001b[0m\u001b[0mm\u001b[0m\u001b[0;34m)\u001b[0m\u001b[0;34m)\u001b[0m\u001b[0;34m\u001b[0m\u001b[0;34m\u001b[0m\u001b[0m\n\u001b[0m",
      "\u001b[0;31mTypeError\u001b[0m: unsupported operand type(s) for /: 'str' and 'int'"
     ]
    }
   ],
   "source": [
    "n = input(\"Escribe un numero: \")\n",
    "m = 4\n",
    "print(\"{}/{}={}\".format(n, m, n/m))"
   ]
  },
  {
   "cell_type": "code",
   "execution_count": 2,
   "metadata": {},
   "outputs": [
    {
     "name": "stdout",
     "output_type": "stream",
     "text": [
      "Escribe un numero: aaa\n",
      "Ha ocurrido un error, escriba bien el numero\n"
     ]
    }
   ],
   "source": [
    "try:\n",
    "    n = input(\"Escribe un numero: \")\n",
    "    m = 4\n",
    "    print(\"{}/{}={}\".format(n, m, n/m))\n",
    "except:\n",
    "    print(\"Ha ocurrido un error, escriba bien el numero\")"
   ]
  },
  {
   "cell_type": "code",
   "execution_count": 1,
   "metadata": {},
   "outputs": [
    {
     "name": "stdout",
     "output_type": "stream",
     "text": [
      "Escribe un numero: www\n",
      "Ha ocurrido un error, escriba bien el numero\n",
      "Escribe un numero: eee\n",
      "Ha ocurrido un error, escriba bien el numero\n",
      "Escribe un numero: rrr\n",
      "Ha ocurrido un error, escriba bien el numero\n",
      "Escribe un numero: 10\n",
      "10.0/4=2.5\n"
     ]
    }
   ],
   "source": [
    "while(True):\n",
    "    try:\n",
    "        n = float(input(\"Escribe un numero: \"))\n",
    "        m = 4\n",
    "        print(\"{}/{}={}\".format(n, m, n/m))\n",
    "        break  # Romper la iteracion si todo sale bien\n",
    "    except:\n",
    "        print(\"Ha ocurrido un error, escriba bien el numero\")"
   ]
  },
  {
   "cell_type": "code",
   "execution_count": 2,
   "metadata": {},
   "outputs": [
    {
     "name": "stdout",
     "output_type": "stream",
     "text": [
      "Escribe un numero: www\n",
      "Ha ocurrido un error, escriba bien el numero\n",
      "Escribe un numero: eee\n",
      "Ha ocurrido un error, escriba bien el numero\n",
      "Escribe un numero: 10\n",
      "10.0/4=2.5\n",
      "Todo Ha funcionado correctamente!\n"
     ]
    }
   ],
   "source": [
    "while(True):\n",
    "    try:\n",
    "        n = float(input(\"Escribe un numero: \"))\n",
    "        m = 4\n",
    "        print(\"{}/{}={}\".format(n, m, n/m))\n",
    "    except:\n",
    "        print(\"Ha ocurrido un error, escriba bien el numero\")\n",
    "    else:\n",
    "        print(\"Todo Ha funcionado correctamente!\")\n",
    "        break  # Romper la iteracion si todo sale bien"
   ]
  },
  {
   "cell_type": "code",
   "execution_count": 3,
   "metadata": {},
   "outputs": [
    {
     "name": "stdout",
     "output_type": "stream",
     "text": [
      "Escribe un numero: www\n",
      "Ha ocurrido un error, escriba bien el numero\n",
      "Fin de la iteracion\n",
      "Escribe un numero: eee\n",
      "Ha ocurrido un error, escriba bien el numero\n",
      "Fin de la iteracion\n",
      "Escribe un numero: 10\n",
      "10.0/4=2.5\n",
      "Todo Ha funcionado correctamente!\n",
      "Fin de la iteracion\n"
     ]
    }
   ],
   "source": [
    "while(True):\n",
    "    try:\n",
    "        n = float(input(\"Escribe un numero: \"))\n",
    "        m = 4\n",
    "        print(\"{}/{}={}\".format(n, m, n/m))\n",
    "    except:\n",
    "        print(\"Ha ocurrido un error, escriba bien el numero\")\n",
    "    else:\n",
    "        print(\"Todo Ha funcionado correctamente!\")\n",
    "        break  # Romper la iteracion si todo sale bien\n",
    "    finally:\n",
    "        print(\"Fin de la iteracion\")"
   ]
  },
  {
   "cell_type": "code",
   "execution_count": 5,
   "metadata": {},
   "outputs": [
    {
     "name": "stdout",
     "output_type": "stream",
     "text": [
      "No se puede dividir entre cero\n"
     ]
    }
   ],
   "source": [
    "def dividir(a, b):\n",
    "    try:\n",
    "        return a/b\n",
    "    except:\n",
    "        print(\"No se puede dividir entre cero\")\n",
    "dividir(4, 0)"
   ]
  },
  {
   "cell_type": "code",
   "execution_count": null,
   "metadata": {},
   "outputs": [],
   "source": []
  }
 ],
 "metadata": {
  "kernelspec": {
   "display_name": "Python 3 (ipykernel)",
   "language": "python",
   "name": "python3"
  },
  "language_info": {
   "codemirror_mode": {
    "name": "ipython",
    "version": 3
   },
   "file_extension": ".py",
   "mimetype": "text/x-python",
   "name": "python",
   "nbconvert_exporter": "python",
   "pygments_lexer": "ipython3",
   "version": "3.8.10"
  }
 },
 "nbformat": 4,
 "nbformat_minor": 1
}
