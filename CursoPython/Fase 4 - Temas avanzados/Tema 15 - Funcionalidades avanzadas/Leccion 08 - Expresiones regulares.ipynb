{
 "cells": [
  {
   "cell_type": "markdown",
   "metadata": {},
   "source": [
    "# Expresiones regulares"
   ]
  },
  {
   "cell_type": "code",
   "execution_count": 1,
   "metadata": {},
   "outputs": [
    {
     "data": {
      "text/plain": [
       "<re.Match object; span=(40, 47), match='secreta'>"
      ]
     },
     "execution_count": 1,
     "metadata": {},
     "output_type": "execute_result"
    }
   ],
   "source": [
    "# re.search : buscar un patron en una cadena\n",
    "import re\n",
    "\n",
    "texto = \"En esta cadena se encuentra una palabra secreta\"\n",
    "\n",
    "re.search('secreta', texto)"
   ]
  },
  {
   "cell_type": "code",
   "execution_count": 2,
   "metadata": {},
   "outputs": [],
   "source": [
    "re.search('hi!', texto)"
   ]
  },
  {
   "cell_type": "code",
   "execution_count": 3,
   "metadata": {},
   "outputs": [],
   "source": [
    "palabra = \"secreta\"\n",
    "\n",
    "encontrado = re.search(palabra, texto)"
   ]
  },
  {
   "cell_type": "code",
   "execution_count": 4,
   "metadata": {},
   "outputs": [
    {
     "name": "stdout",
     "output_type": "stream",
     "text": [
      "Se ha encontrado la palabra\n"
     ]
    }
   ],
   "source": [
    "if encontrado is not None:\n",
    "    print(\"Se ha encontrado la palabra\")\n",
    "else:\n",
    "    print(\"No se ha encontrado la palabra\")"
   ]
  },
  {
   "cell_type": "code",
   "execution_count": 5,
   "metadata": {},
   "outputs": [
    {
     "data": {
      "text/plain": [
       "40"
      ]
     },
     "execution_count": 5,
     "metadata": {},
     "output_type": "execute_result"
    }
   ],
   "source": [
    "# Devuelve la posicion en donde inicia la coincidencia en la cadena\n",
    "encontrado.start()"
   ]
  },
  {
   "cell_type": "code",
   "execution_count": 6,
   "metadata": {},
   "outputs": [
    {
     "data": {
      "text/plain": [
       "47"
      ]
     },
     "execution_count": 6,
     "metadata": {},
     "output_type": "execute_result"
    }
   ],
   "source": [
    "# Devuelve la posicion en donde termina la coincidencia en la cadena\n",
    "encontrado.end()"
   ]
  },
  {
   "cell_type": "code",
   "execution_count": 8,
   "metadata": {},
   "outputs": [
    {
     "data": {
      "text/plain": [
       "(40, 47)"
      ]
     },
     "execution_count": 8,
     "metadata": {},
     "output_type": "execute_result"
    }
   ],
   "source": [
    "# Una tupla con la posicion en donde inicia y termina\n",
    "encontrado.span()"
   ]
  },
  {
   "cell_type": "code",
   "execution_count": 9,
   "metadata": {},
   "outputs": [
    {
     "data": {
      "text/plain": [
       "'En esta cadena se encuentra una palabra secreta'"
      ]
     },
     "execution_count": 9,
     "metadata": {},
     "output_type": "execute_result"
    }
   ],
   "source": [
    "encontrado.string"
   ]
  },
  {
   "cell_type": "code",
   "execution_count": 10,
   "metadata": {},
   "outputs": [
    {
     "data": {
      "text/plain": [
       "<re.Match object; span=(0, 5), match='Hello'>"
      ]
     },
     "execution_count": 10,
     "metadata": {},
     "output_type": "execute_result"
    }
   ],
   "source": [
    "texto = \"Hello World\"\n",
    "re.match(\"Hello\", texto)"
   ]
  },
  {
   "cell_type": "code",
   "execution_count": 11,
   "metadata": {},
   "outputs": [],
   "source": [
    "re.match(\"hola\", texto)"
   ]
  },
  {
   "cell_type": "code",
   "execution_count": 15,
   "metadata": {},
   "outputs": [
    {
     "data": {
      "text/plain": [
       "['Cadena', 'dividida', 'por', 'comas']"
      ]
     },
     "execution_count": 15,
     "metadata": {},
     "output_type": "execute_result"
    }
   ],
   "source": [
    "# re.split : Dividir una cadena a partir de un patron\n",
    "texto = \"Cadena,dividida,por,comas\"\n",
    "re.split(',', texto)"
   ]
  },
  {
   "cell_type": "code",
   "execution_count": 16,
   "metadata": {},
   "outputs": [
    {
     "data": {
      "text/plain": [
       "'Hola amigo'"
      ]
     },
     "execution_count": 16,
     "metadata": {},
     "output_type": "execute_result"
    }
   ],
   "source": [
    "# re.sub : sustituye todas las coincidencias en una cadena\n",
    "texto = \"Hi amigo\"\n",
    "re.sub(\"Hi\", \"Hola\", texto)"
   ]
  },
  {
   "cell_type": "code",
   "execution_count": 17,
   "metadata": {},
   "outputs": [
    {
     "data": {
      "text/plain": [
       "['adios', 'hello', 'adios', 'hello']"
      ]
     },
     "execution_count": 17,
     "metadata": {},
     "output_type": "execute_result"
    }
   ],
   "source": [
    "# re.findall: buscar todas las coincidencias en una cadena\n",
    "texto = \"hola adios hello adios hello hola\"\n",
    "re.findall(\"(adios|hello)\", texto)"
   ]
  },
  {
   "cell_type": "code",
   "execution_count": 18,
   "metadata": {},
   "outputs": [
    {
     "data": {
      "text/plain": [
       "['hla']"
      ]
     },
     "execution_count": 18,
     "metadata": {},
     "output_type": "execute_result"
    }
   ],
   "source": [
    "texto = \"hla hola hoola hoooola hooooooola\"\n",
    "re.findall(\"hla\", texto)"
   ]
  },
  {
   "cell_type": "code",
   "execution_count": 19,
   "metadata": {},
   "outputs": [
    {
     "data": {
      "text/plain": [
       "['hola']"
      ]
     },
     "execution_count": 19,
     "metadata": {},
     "output_type": "execute_result"
    }
   ],
   "source": [
    "re.findall('hola', texto)"
   ]
  },
  {
   "cell_type": "code",
   "execution_count": 20,
   "metadata": {},
   "outputs": [
    {
     "name": "stdout",
     "output_type": "stream",
     "text": [
      "['hla']\n",
      "['hola']\n",
      "['hoola']\n"
     ]
    }
   ],
   "source": [
    "def buscar(patrones, texto):\n",
    "    for patron in patrones:\n",
    "        print(re.findall(patron, texto))\n",
    "        \n",
    "patrones = ['hla', 'hola', 'hoola']\n",
    "buscar(patrones, texto)"
   ]
  },
  {
   "cell_type": "code",
   "execution_count": 21,
   "metadata": {},
   "outputs": [
    {
     "name": "stdout",
     "output_type": "stream",
     "text": [
      "['ho', 'ho', 'ho', 'ho']\n",
      "['h', 'ho', 'hoo', 'hoooo', 'hooooooo']\n",
      "['hla', 'hola', 'hoola', 'hoooola', 'hooooooola']\n",
      "['hla']\n"
     ]
    }
   ],
   "source": [
    "# Meta-caracter * : Ninguna o mas repeticiones de la letra a su izquierda\n",
    "texto = \"hla hola hoola hoooola hooooooola\"\n",
    "\n",
    "patrones = ['ho', 'ho*', 'ho*la', 'hu*la']\n",
    "\n",
    "buscar(patrones, texto)"
   ]
  },
  {
   "cell_type": "code",
   "execution_count": 25,
   "metadata": {},
   "outputs": [
    {
     "name": "stdout",
     "output_type": "stream",
     "text": [
      "['h', 'ho', 'hoo', 'hoooo', 'hooooooo']\n",
      "['ho', 'hoo', 'hoooo', 'hooooooo']\n"
     ]
    }
   ],
   "source": [
    "# Meta-caracter + : una o mas repeticiones de la letra a su izquierda\n",
    "texto = \"hla hola hoola hoooola hooooooola\"\n",
    "\n",
    "patrones = ['ho*', 'ho+']\n",
    "buscar(patrones, texto)"
   ]
  },
  {
   "cell_type": "code",
   "execution_count": 26,
   "metadata": {},
   "outputs": [
    {
     "name": "stdout",
     "output_type": "stream",
     "text": [
      "['h', 'ho', 'hoo', 'hoooo', 'hooooooo']\n",
      "['ho', 'hoo', 'hoooo', 'hooooooo']\n",
      "['h', 'ho', 'ho', 'ho', 'ho']\n",
      "['hla', 'hola']\n"
     ]
    }
   ],
   "source": [
    "# Meta-caracter ? : una o ninguna repeticion de la letra a su izquierda\n",
    "texto = \"hla hola hoola hoooola hooooooola\"\n",
    "\n",
    "patrones = ['ho*', 'ho+', 'ho?', 'ho?la']\n",
    "buscar(patrones, texto)"
   ]
  },
  {
   "cell_type": "code",
   "execution_count": 27,
   "metadata": {},
   "outputs": [
    {
     "name": "stdout",
     "output_type": "stream",
     "text": [
      "['hla']\n",
      "['hola']\n",
      "['hoola']\n"
     ]
    }
   ],
   "source": [
    "# Sintaxis con {n} : indica un numero de repeticiones explicito de la letra a su izquierda\n",
    "texto = \"hla hola hoola hoooola hooooooola\"\n",
    "\n",
    "patrones = ['ho{0}la', 'ho{1}la', 'ho{2}la']\n",
    "buscar(patrones, texto)"
   ]
  },
  {
   "cell_type": "code",
   "execution_count": 28,
   "metadata": {},
   "outputs": [
    {
     "name": "stdout",
     "output_type": "stream",
     "text": [
      "['hla', 'hola']\n",
      "['hola', 'hoola']\n",
      "['hoola', 'hoooola', 'hooooooola']\n"
     ]
    }
   ],
   "source": [
    "# Sintaxis con rango {n, m} : indica un numero de repeticiones variable entre n y m de la letra a su izquierda\n",
    "texto = \"hla hola hoola hoooola hooooooola\"\n",
    "\n",
    "patrones = ['ho{0,1}la', 'ho{1,2}la', 'ho{2,10}la']\n",
    "buscar(patrones, texto)"
   ]
  },
  {
   "cell_type": "code",
   "execution_count": 29,
   "metadata": {},
   "outputs": [
    {
     "name": "stdout",
     "output_type": "stream",
     "text": [
      "['hola', 'hula']\n",
      "['hala', 'hila', 'hola']\n",
      "['hala', 'hela', 'hila', 'hola', 'hula']\n"
     ]
    }
   ],
   "source": [
    "# Conjunto de caracteres []\n",
    "texto = \"hala hela hila hola hula\"\n",
    "\n",
    "patrones = ['h[ou]la', 'h[aio]la', 'h[aeiou]la']\n",
    "buscar(patrones, texto)"
   ]
  },
  {
   "cell_type": "code",
   "execution_count": 30,
   "metadata": {},
   "outputs": [
    {
     "name": "stdout",
     "output_type": "stream",
     "text": [
      "[]\n",
      "['haala', 'heeela']\n",
      "['hiiiila', 'hoooooola']\n"
     ]
    }
   ],
   "source": [
    "texto = \"haala heeela hiiiila hoooooola\"\n",
    "\n",
    "patrones = ['h[ae]la', 'h[ae]*la', 'h[io]{3,9}la']\n",
    "buscar(patrones, texto)"
   ]
  },
  {
   "cell_type": "code",
   "execution_count": 31,
   "metadata": {},
   "outputs": [
    {
     "name": "stdout",
     "output_type": "stream",
     "text": [
      "['hola']\n",
      "['hala', 'hela', 'hila', 'hula']\n"
     ]
    }
   ],
   "source": [
    "# Exclusion en conjunto [^] para busquedas contrarias\n",
    "texto = \"hala hela hila hola hula\"\n",
    "\n",
    "patrones = ['h[o]la', 'h[^o]la']\n",
    "buscar(patrones, texto)"
   ]
  },
  {
   "cell_type": "code",
   "execution_count": 33,
   "metadata": {},
   "outputs": [
    {
     "name": "stdout",
     "output_type": "stream",
     "text": [
      "['hola']\n",
      "['h0la']\n",
      "['hola', 'Hola', 'mola', 'asda', 'Mnbh']\n",
      "['Hola', 'M0la', 'UB40', 'Mnbh']\n"
     ]
    }
   ],
   "source": [
    "# Rangos [A-Za-z] [0-9] [a-zA-Z0-9]\n",
    "texto = \"hola h0la Hola mola m0la M0la asda UB40 Mnbh\"\n",
    "\n",
    "patrones = ['h[a-z]la', 'h[0-9]la', '[A-z]{4}', '[A-Z][A-z0-9]{3}']\n",
    "buscar(patrones, texto)"
   ]
  },
  {
   "cell_type": "code",
   "execution_count": 34,
   "metadata": {},
   "outputs": [
    {
     "name": "stdout",
     "output_type": "stream",
     "text": [
      "['3', '2', '0', '2', '1']\n",
      "['3', '2021']\n",
      "['E', 's', 't', 'e', ' ', 'c', 'u', 'r', 's', 'o', ' ', 'd', 'e', ' ', 'p', 'y', 't', 'h', 'o', 'n', ' ', ' ', ' ', ' ', 's', 'e', ' ', 'c', 'u', 'r', 's', 'o', ' ', ' ', ' ', 'e', 'n', ' ', 'e', 'l', ' ', 'a', 'ñ', 'o', ' ']\n",
      "['Este curso de python ', '   se curso   en el año ']\n",
      "[' ', ' ', ' ', ' ', ' ', ' ', ' ', ' ', ' ', ' ', ' ', ' ', ' ', ' ']\n",
      "['E', 's', 't', 'e', 'c', 'u', 'r', 's', 'o', 'd', 'e', 'p', 'y', 't', 'h', 'o', 'n', '3', 's', 'e', 'c', 'u', 'r', 's', 'o', 'e', 'n', 'e', 'l', 'a', 'ñ', 'o', '2', '0', '2', '1']\n",
      "['Este', 'curso', 'de', 'python', '3', 'se', 'curso', 'en', 'el', 'año', '2021']\n",
      "['E', 's', 't', 'e', 'c', 'u', 'r', 's', 'o', 'd', 'e', 'p', 'y', 't', 'h', 'o', 'n', '3', 's', 'e', 'c', 'u', 'r', 's', 'o', 'e', 'n', 'e', 'l', 'a', 'ñ', 'o', '2', '0', '2', '1']\n",
      "['Este', 'curso', 'de', 'python', '3', 'se', 'curso', 'en', 'el', 'año', '2021']\n",
      "[' ', ' ', ' ', ' ', ' ', ' ', ' ', ' ', ' ', ' ', ' ', ' ', ' ', ' ']\n",
      "[' ', ' ', ' ', ' ', '   ', ' ', '   ', ' ', ' ', ' ']\n"
     ]
    }
   ],
   "source": [
    "texto = \"Este curso de python 3   se curso   en el año 2021\"\n",
    "\n",
    "patrones = [r'\\d', r'\\d+', r'\\D', r'\\D+', r'\\s', r'\\S', r'\\S+', r'\\w', r'\\w+', r'\\W', r'\\W+']\n",
    "\n",
    "buscar(patrones, texto)"
   ]
  },
  {
   "cell_type": "code",
   "execution_count": null,
   "metadata": {},
   "outputs": [],
   "source": []
  }
 ],
 "metadata": {
  "anaconda-cloud": {},
  "kernelspec": {
   "display_name": "Python 3 (ipykernel)",
   "language": "python",
   "name": "python3"
  },
  "language_info": {
   "codemirror_mode": {
    "name": "ipython",
    "version": 3
   },
   "file_extension": ".py",
   "mimetype": "text/x-python",
   "name": "python",
   "nbconvert_exporter": "python",
   "pygments_lexer": "ipython3",
   "version": "3.8.10"
  }
 },
 "nbformat": 4,
 "nbformat_minor": 1
}
