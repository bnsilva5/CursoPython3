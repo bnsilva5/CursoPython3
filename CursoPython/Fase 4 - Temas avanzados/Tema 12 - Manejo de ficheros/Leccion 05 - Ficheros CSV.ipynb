{
 "cells": [
  {
   "cell_type": "markdown",
   "metadata": {},
   "source": [
    "# Ficheros CSV\n",
    "\n",
    "#### Valores separados por comas (comma-separated values)\n",
    "\n",
    "Documentación: https://docs.python.org/3/library/csv.html"
   ]
  },
  {
   "cell_type": "code",
   "execution_count": 2,
   "metadata": {},
   "outputs": [],
   "source": [
    "import csv"
   ]
  },
  {
   "cell_type": "code",
   "execution_count": 2,
   "metadata": {},
   "outputs": [],
   "source": [
    "# Listas / Tuplas\n",
    "contactos = [\n",
    "    (\"Nicholas\", \"Desarrollador Web\", \"nicholas@ejemplo.com\"),\n",
    "    (\"Manuel\", \"Redes\", \"manuel@ejemplo.com\"),\n",
    "    (\"Javier\", \"Analista de datos\", \"javier@ejemplo.com\"),\n",
    "    (\"Marta\", \"Experta en Python\", \"marta@ejemplo.com\")\n",
    "]"
   ]
  },
  {
   "cell_type": "code",
   "execution_count": 3,
   "metadata": {},
   "outputs": [
    {
     "data": {
      "text/plain": [
       "list"
      ]
     },
     "execution_count": 3,
     "metadata": {},
     "output_type": "execute_result"
    }
   ],
   "source": [
    "type(contactos)"
   ]
  },
  {
   "cell_type": "code",
   "execution_count": 3,
   "metadata": {},
   "outputs": [],
   "source": [
    "# Escritura de archivos a csv\n",
    "with open(\"contactos.csv\", \"w\", newline=\"\\n\") as csvfile:\n",
    "    writer = csv.writer(csvfile, delimiter=\",\")\n",
    "    for contacto in contactos:\n",
    "        writer.writerow(contacto)"
   ]
  },
  {
   "cell_type": "code",
   "execution_count": 3,
   "metadata": {},
   "outputs": [
    {
     "name": "stdout",
     "output_type": "stream",
     "text": [
      "['Prefijo de Issue;Título;Creado;Usuario asignado;Usuario asignado: correo electrónico;Modificado;Módulo;status;Orden de ejecución;Informador;Informador: correo electrónico']\n",
      "['SP-I2399;Cargar Documento  a Goddady;01-29-2021 12:15;wilmer.duran;wilmer.duran@bitsamericas.com;04-25-2021 13:11;Redes / Comunicaciones;Cerrado;17;wilmer.duran;wilmer.duran@bitsamericas.com']\n",
      "['SP-I2398;Creación Proyecto Retención de personal;01-28-2021 15:29;leila.avendano;leila.avendano@bitsamericas.com;02-22-2021 15:04;Software;Cerrado;;leila.avendano;leila.avendano@bitsamericas.com']\n",
      "['SP-I2397;Acceso a videos;01-27-2021 11:41;yenny.romero;yenny.romero@bitsamericas.com;01-29-2021 13:13;Accesos ;Cerrado;;yenny.romero ;yenny.romero@bitsamericas.com']\n",
      "['SP-I2396;Solicitud sala Zoom;01-26-2021 11:23;zulma.pita;zulma.pita@bitsamericas.com;02-22-2021 17:25;Office /Ofimatica;Cerrado;;zulma.pita;zulma.pita@bitsamericas.com']\n",
      "['SP-I2395;ODOO - Solicitud 6 Usuarios Gestores de Compras;01-25-2021 18:20;victor.cruz;victor.cruz@bitsamericas.com;02-22-2021 19:01;General-Odoo;Cerrado;;victor.cruz;victor.cruz@bitsamericas.com']\n",
      "['SP-I2394;Problemas con la cámara;01-25-2021 17:57;karen.medina;karen.medina@bitsamericas.com;01-29-2021 15:16;Software;Cerrado;;karen.medina;karen.medina@bitsamericas.com']\n",
      "['SP-I2393;validar correo odoo@bitsamericas.com;01-25-2021 15:03;nomina;nomina@bitsamericas.com;03-15-2021 09:28;Software;Cerrado;30;nomina;nomina@bitsamericas.com']\n",
      "['SP-I2392;problemas con el wireless;01-25-2021 10:13;carlos.morales;carlos.morales@bitsamericas.com;02-22-2021 10:48;Hardware;Cerrado;;carlos.morales;carlos.morales@bitsamericas.com']\n",
      "['SP-I2391;Admin Proyecto Integracion Imedical;01-25-2021 09:19;Rocio Castiblanco;rocio.castiblanco@bitsamericas.com;01-27-2021 14:25;Sin Asignar;Cerrado;;Rocio  Castiblanco ;rocio.castiblanco@bitsamericas.com']\n"
     ]
    }
   ],
   "source": [
    "# Lectura de archivos csv\n",
    "# Recuperar registros en forma de lista\n",
    "\n",
    "with open(\"DatosDePrueba.csv\", newline=\"\\n\") as csvfile:\n",
    "    reader = csv.reader(csvfile, delimiter=\",\")\n",
    "    for contacto in reader:\n",
    "        print(contacto)"
   ]
  },
  {
   "cell_type": "code",
   "execution_count": 5,
   "metadata": {},
   "outputs": [
    {
     "name": "stdout",
     "output_type": "stream",
     "text": [
      "Nicholas Desarrollador Web nicholas@ejemplo.com\n",
      "Manuel Redes manuel@ejemplo.com\n",
      "Javier Analista de datos javier@ejemplo.com\n",
      "Marta Experta en Python marta@ejemplo.com\n"
     ]
    }
   ],
   "source": [
    "with open(\"contactos.csv\", newline=\"\\n\") as csvfile:\n",
    "    reader = csv.reader(csvfile, delimiter=\",\")\n",
    "    for nombre, empleo, email in reader:\n",
    "        print(nombre, empleo, email)"
   ]
  },
  {
   "cell_type": "code",
   "execution_count": 7,
   "metadata": {},
   "outputs": [],
   "source": [
    "# Diccionarios permiten guardar los nombres de los campos\n",
    "with open(\"contactos.csv\", \"w\" ,newline=\"\\n\") as csvfile:\n",
    "    campos = [\"nombre\", \"empleo\", \"email\"]\n",
    "    writer = csv.DictWriter(csvfile, fieldnames=campos)\n",
    "    writer.writeheader()\n",
    "    for nombre, empleo, email in contactos:\n",
    "        writer.writerow({\n",
    "            \"nombre\":nombre, \"empleo\":empleo, \"email\":email\n",
    "        })"
   ]
  },
  {
   "cell_type": "code",
   "execution_count": 8,
   "metadata": {},
   "outputs": [
    {
     "name": "stdout",
     "output_type": "stream",
     "text": [
      "Nicholas Desarrollador Web nicholas@ejemplo.com\n",
      "Manuel Redes manuel@ejemplo.com\n",
      "Javier Analista de datos javier@ejemplo.com\n",
      "Marta Experta en Python marta@ejemplo.com\n"
     ]
    }
   ],
   "source": [
    "# Leer Diccionarios con cabeceras\n",
    "with open(\"contactos.csv\", newline=\"\\n\") as csvfile:\n",
    "    reader = csv.DictReader(csvfile)\n",
    "    for contacto in reader:\n",
    "        print(contacto[\"nombre\"], contacto[\"empleo\"], contacto[\"email\"])"
   ]
  },
  {
   "cell_type": "code",
   "execution_count": null,
   "metadata": {},
   "outputs": [],
   "source": []
  }
 ],
 "metadata": {
  "kernelspec": {
   "display_name": "Python 3 (ipykernel)",
   "language": "python",
   "name": "python3"
  },
  "language_info": {
   "codemirror_mode": {
    "name": "ipython",
    "version": 3
   },
   "file_extension": ".py",
   "mimetype": "text/x-python",
   "name": "python",
   "nbconvert_exporter": "python",
   "pygments_lexer": "ipython3",
   "version": "3.8.10"
  }
 },
 "nbformat": 4,
 "nbformat_minor": 4
}
